{
  "nbformat": 4,
  "nbformat_minor": 0,
  "metadata": {
    "colab": {
      "provenance": [],
      "authorship_tag": "ABX9TyOT+iT7rELLDDs9/N6rj+ok",
      "include_colab_link": true
    },
    "kernelspec": {
      "name": "python3",
      "display_name": "Python 3"
    },
    "language_info": {
      "name": "python"
    }
  },
  "cells": [
    {
      "cell_type": "markdown",
      "metadata": {
        "id": "view-in-github",
        "colab_type": "text"
      },
      "source": [
        "<a href=\"https://colab.research.google.com/github/Ihsanalmasry/MachingLearning_Labs_IHSAN-ALMASRY/blob/main/MLF_lab1.ipynb\" target=\"_parent\"><img src=\"https://colab.research.google.com/assets/colab-badge.svg\" alt=\"Open In Colab\"/></a>"
      ]
    },
    {
      "cell_type": "code",
      "execution_count": 1,
      "metadata": {
        "colab": {
          "base_uri": "https://localhost:8080/"
        },
        "id": "XpWRs6_EFTqf",
        "outputId": "d5a044c3-302d-41dd-8a8c-4d1a64a99374"
      },
      "outputs": [
        {
          "output_type": "stream",
          "name": "stdout",
          "text": [
            "X\n",
            "X X\n",
            "X X X\n",
            "X X X X\n",
            "X X X X X\n",
            "X X X X\n",
            "X X X\n",
            "X X\n",
            "X\n"
          ]
        }
      ],
      "source": [
        "#####Exercise 1.1\n",
        "n = 5\n",
        "\n",
        "# Single loop for the entire pattern\n",
        "for i in range(-n + 1, n):\n",
        "    line = 'X ' * (n - abs(i))\n",
        "    print(line.strip())"
      ]
    },
    {
      "cell_type": "code",
      "source": [
        "#####Exercise 1.2\n",
        "input_str = \"n45as29@#8ss6\"\n",
        "\n",
        "total = sum(int(char) for char in input_str if char.isdigit())\n",
        "print(total)"
      ],
      "metadata": {
        "colab": {
          "base_uri": "https://localhost:8080/"
        },
        "id": "VxdGy9A7FVoU",
        "outputId": "2ee05fdc-b7de-4c4b-fef0-07222889ffcd"
      },
      "execution_count": 4,
      "outputs": [
        {
          "output_type": "stream",
          "name": "stdout",
          "text": [
            "34\n"
          ]
        }
      ]
    },
    {
      "cell_type": "code",
      "source": [
        "#####Exercise 1.3\n",
        "def int_to_binary(n):\n",
        "    if n == 0:\n",
        "        return \"0\"\n",
        "\n",
        "    binary = []\n",
        "    is_negative = False\n",
        "\n",
        "    # Handling negative numbers\n",
        "    if n < 0:\n",
        "        is_negative = True\n",
        "        n = -n\n",
        "\n",
        "    # Converting to binary\n",
        "    while n > 0:\n",
        "        binary.append(str(n % 2))\n",
        "        n = n // 2\n",
        "\n",
        "    # Reversing to get correct order\n",
        "    binary_str = ''.join(reversed(binary))\n",
        "\n",
        "    # Adding negative sign if needed\n",
        "    if is_negative:\n",
        "        binary_str = \"-\" + binary_str\n",
        "\n",
        "    return binary_str\n",
        "\n",
        "# Test cases\n",
        "print(int_to_binary(10))\n",
        "print(int_to_binary(0))\n",
        "print(int_to_binary(1))\n",
        "print(int_to_binary(-5))\n",
        "print(int_to_binary(255))"
      ],
      "metadata": {
        "colab": {
          "base_uri": "https://localhost:8080/"
        },
        "id": "dJAgqQkhFfZZ",
        "outputId": "5f825c81-b0c8-4fc9-8297-a8b44c44c23f"
      },
      "execution_count": 5,
      "outputs": [
        {
          "output_type": "stream",
          "name": "stdout",
          "text": [
            "1010\n",
            "0\n",
            "1\n",
            "-101\n",
            "11111111\n"
          ]
        }
      ]
    },
    {
      "cell_type": "code",
      "source": [
        "#####Exercise 1.4\n",
        "#Iterative Approach\n",
        "def fibonacci(upper_threshold: int) -> list:\n",
        "    if upper_threshold <= 0:\n",
        "        return [0]\n",
        "\n",
        "    sequence = [0, 1]\n",
        "    while True:\n",
        "        next_num = sequence[-1] + sequence[-2]\n",
        "        if next_num >= upper_threshold:\n",
        "            break\n",
        "        sequence.append(next_num)\n",
        "    return sequence\n",
        "#examples\n",
        "print('Iterative Approach')\n",
        "print(fibonacci(10))\n",
        "print(fibonacci(1))\n",
        "print(fibonacci(2))\n",
        "print(fibonacci(0))\n",
        "\n",
        "\n",
        "#Recursive Approach\n",
        "def fibonacci(upper_threshold: int, a=0, b=1, sequence=None) -> list:\n",
        "    if sequence is None:\n",
        "        sequence = [0]\n",
        "    if upper_threshold <= 1:\n",
        "        return sequence\n",
        "\n",
        "    if b < upper_threshold:\n",
        "        sequence.append(b)\n",
        "        return fibonacci(upper_threshold, b, a+b, sequence)\n",
        "    return sequence\n",
        "#examples\n",
        "print('Recursive Approach')\n",
        "print(fibonacci(100))\n",
        "print(fibonacci(18))\n",
        "print(fibonacci(20))\n",
        "print(fibonacci(30))\n",
        "\n",
        "\n",
        "#Memoization Approach\n",
        "def fibonacci(upper_threshold: int, memo={0:0, 1:1}) -> list:\n",
        "    def fib(n):\n",
        "        if n not in memo:\n",
        "            memo[n] = fib(n-1) + fib(n-2)\n",
        "        return memo[n]\n",
        "\n",
        "    if upper_threshold <= 0:\n",
        "        return [0]\n",
        "\n",
        "    result = []\n",
        "    n = 0\n",
        "    while True:\n",
        "        current = fib(n)\n",
        "        if current >= upper_threshold:\n",
        "            break\n",
        "        result.append(current)\n",
        "        n += 1\n",
        "    return result\n",
        "#examples\n",
        "print('Memoization Approach')\n",
        "print(fibonacci(150))\n",
        "print(fibonacci(8))\n",
        "print(fibonacci(210))\n",
        "print(fibonacci(35))\n"
      ],
      "metadata": {
        "colab": {
          "base_uri": "https://localhost:8080/"
        },
        "id": "2iF5YaZJJKKY",
        "outputId": "1211b47b-cb52-420f-c4ff-b80e263f2825"
      },
      "execution_count": 20,
      "outputs": [
        {
          "output_type": "stream",
          "name": "stdout",
          "text": [
            "Iterative Approach\n",
            "[0, 1, 1, 2, 3, 5, 8]\n",
            "[0, 1]\n",
            "[0, 1, 1]\n",
            "[0]\n",
            "Recursive Approach\n",
            "[0, 1, 1, 2, 3, 5, 8, 13, 21, 34, 55, 89]\n",
            "[0, 1, 1, 2, 3, 5, 8, 13]\n",
            "[0, 1, 1, 2, 3, 5, 8, 13]\n",
            "[0, 1, 1, 2, 3, 5, 8, 13, 21]\n",
            "Memoization Approach\n",
            "[0, 1, 1, 2, 3, 5, 8, 13, 21, 34, 55, 89, 144]\n",
            "[0, 1, 1, 2, 3, 5]\n",
            "[0, 1, 1, 2, 3, 5, 8, 13, 21, 34, 55, 89, 144]\n",
            "[0, 1, 1, 2, 3, 5, 8, 13, 21, 34]\n"
          ]
        }
      ]
    },
    {
      "cell_type": "code",
      "source": [
        "#####Exercise 1.5\n",
        "import random\n",
        "\n",
        "def rock_paper_scissors() -> None:\n",
        "    moves = ['rock', 'paper', 'scissors']\n",
        "    win_conditions = {\n",
        "        'rock': 'scissors',\n",
        "        'paper': 'rock',\n",
        "        'scissors': 'paper'\n",
        "    }\n",
        "\n",
        "    user_score = 0\n",
        "    computer_score = 0\n",
        "    rounds_played = 0\n",
        "\n",
        "    while True:\n",
        "        try:\n",
        "            total_rounds = int(input(\"How many rounds would you like to play? \"))\n",
        "            if total_rounds > 0:\n",
        "                break\n",
        "            print(\"Please enter a positive number.\")\n",
        "        except ValueError:\n",
        "            print(\"Please enter a valid number.\")\n",
        "\n",
        "    # Game loop\n",
        "    while rounds_played < total_rounds:\n",
        "        print(f\"\\nRound {rounds_played + 1} of {total_rounds}\")\n",
        "\n",
        "        user_move = input(\"Enter your move (rock, paper, scissors): \").lower()\n",
        "        while user_move not in moves:\n",
        "            print(\"Invalid move! Please try again.\")\n",
        "            user_move = input(\"Enter your move (rock, paper, scissors): \").lower()\n",
        "\n",
        "        computer_move = random.choice(moves)\n",
        "        print(f\"Computer chose: {computer_move}\")\n",
        "\n",
        "        # Determining round winner\n",
        "        if user_move == computer_move:\n",
        "            print(\"It's a tie!\")\n",
        "        elif win_conditions[user_move] == computer_move:\n",
        "            print(\"You win this round!\")\n",
        "            user_score += 1\n",
        "        else:\n",
        "            print(\"Computer wins this round!\")\n",
        "            computer_score += 1\n",
        "\n",
        "        rounds_played += 1\n",
        "        print(f\"Score: You {user_score} - {computer_score} Computer\\n\")\n",
        "\n",
        "\n",
        "    print(\"\\nFinal Results:\")\n",
        "    print(f\"Total Score: You {user_score} - {computer_score} Computer\")\n",
        "    if user_score > computer_score:\n",
        "        print(\"You win the game!\")\n",
        "    elif computer_score > user_score:\n",
        "        print(\"You lose the game!\")\n",
        "    else:\n",
        "        print(\"The game is a tie!\")\n",
        "\n",
        "\n",
        "rock_paper_scissors()"
      ],
      "metadata": {
        "colab": {
          "base_uri": "https://localhost:8080/"
        },
        "id": "nJH34ZuUKy_i",
        "outputId": "07d92608-8c87-4f43-ac11-bbc672739c6b"
      },
      "execution_count": 27,
      "outputs": [
        {
          "output_type": "stream",
          "name": "stdout",
          "text": [
            "How many rounds would you like to play? 2\n",
            "\n",
            "Round 1 of 2\n",
            "Enter your move (rock, paper, scissors): scissors\n",
            "Computer chose: rock\n",
            "Computer wins this round!\n",
            "Score: You 0 - 1 Computer\n",
            "\n",
            "\n",
            "Round 2 of 2\n",
            "Enter your move (rock, paper, scissors): scissors\n",
            "Computer chose: rock\n",
            "Computer wins this round!\n",
            "Score: You 0 - 2 Computer\n",
            "\n",
            "\n",
            "Final Results:\n",
            "Total Score: You 0 - 2 Computer\n",
            "You lose the game!\n"
          ]
        }
      ]
    },
    {
      "cell_type": "code",
      "source": [
        "####Exercise 2.1\n",
        "import numpy as np\n",
        "import time\n",
        "\n",
        "def create_array_nxn(n: int) -> np.ndarray:\n",
        "    if n <= 0:\n",
        "        raise ValueError(\"n must be a positive integer\")\n",
        "    return np.arange(n**2 - 1, -1, -1).reshape(n, n)\n",
        "\n",
        "def apply_threshold_loop(arr: np.ndarray, threshold: int) -> np.ndarray:\n",
        "    result = arr.copy()\n",
        "    for i in range(result.shape[0]):\n",
        "        for j in range(result.shape[1]):\n",
        "            if result[i, j] < threshold:\n",
        "                result[i, j] = 0\n",
        "    return result\n",
        "\n",
        "def apply_threshold_vectorized(arr: np.ndarray, threshold: int) -> np.ndarray:\n",
        "    result = arr.copy()\n",
        "    result[result < threshold] = 0\n",
        "    return result\n",
        "\n",
        "def compare_performance(n: int, threshold: int) -> None:\n",
        "    arr = create_array_nxn(n)\n",
        "\n",
        "    # Measure loop-based approach\n",
        "    start_time = time.time()\n",
        "    _ = apply_threshold_loop(arr, threshold)\n",
        "    loop_time = time.time() - start_time\n",
        "\n",
        "    # Measure vectorized approach\n",
        "    start_time = time.time()\n",
        "    _ = apply_threshold_vectorized(arr, threshold)\n",
        "    vec_time = time.time() - start_time\n",
        "\n",
        "    print(f\"Performance comparison for {n}x{n} array:\")\n",
        "    print(f\"Loop-based approach: {loop_time:.6f} seconds\")\n",
        "    print(f\"Vectorized approach: {vec_time:.6f} seconds\")\n",
        "    print(f\"Vectorized is {loop_time/vec_time:.1f}x faster\")\n",
        "\n",
        "\n",
        "compare_performance(1000, 5000)"
      ],
      "metadata": {
        "colab": {
          "base_uri": "https://localhost:8080/"
        },
        "id": "rBKm9ommNgbz",
        "outputId": "3b51eb61-6608-498d-86d3-a924e11940bd"
      },
      "execution_count": 33,
      "outputs": [
        {
          "output_type": "stream",
          "name": "stdout",
          "text": [
            "Performance comparison for 1000x1000 array:\n",
            "Loop-based approach: 0.232347 seconds\n",
            "Vectorized approach: 0.004861 seconds\n",
            "Vectorized is 47.8x faster\n"
          ]
        }
      ]
    },
    {
      "cell_type": "code",
      "source": [
        "####Exercise 2.2\n",
        "import numpy as np\n",
        "import matplotlib.pyplot as plt\n",
        "\n",
        "def show_in_digi(input_number: float) -> None:\n",
        "    patterns = {\n",
        "        \"1\": np.array([[0, 0, 1], [0, 0, 1], [0, 0, 1], [0, 0, 1], [0, 0, 1]]),\n",
        "        \"2\": np.array([[1, 1, 1], [0, 0, 1], [1, 1, 1], [1, 0, 0], [1, 1, 1]]),\n",
        "        \"3\": np.array([[1, 1, 1], [0, 0, 1], [1, 1, 1], [0, 0, 1], [1, 1, 1]]),\n",
        "        \"4\": np.array([[1, 0, 1], [1, 0, 1], [1, 1, 1], [0, 0, 1], [0, 0, 1]]),\n",
        "        \"5\": np.array([[1, 1, 1], [1, 0, 0], [1, 1, 1], [0, 0, 1], [1, 1, 1]]),\n",
        "        \"6\": np.array([[1, 1, 1], [1, 0, 0], [1, 1, 1], [1, 0, 1], [1, 1, 1]]),\n",
        "        \"7\": np.array([[1, 1, 1], [0, 0, 1], [0, 0, 1], [0, 0, 1], [0, 0, 1]]),\n",
        "        \"8\": np.array([[1, 1, 1], [1, 0, 1], [1, 1, 1], [1, 0, 1], [1, 1, 1]]),\n",
        "        \"9\": np.array([[1, 1, 1], [1, 0, 1], [1, 1, 1], [0, 0, 1], [1, 1, 1]]),\n",
        "        \"0\": np.array([[1, 1, 1], [1, 0, 1], [1, 0, 1], [1, 0, 1], [1, 1, 1]]),\n",
        "        \"-\": np.array([[0, 0, 0], [0, 0, 0], [1, 1, 1], [0, 0, 0], [0, 0, 0]]),\n",
        "        \".\": np.array([[0, 0, 0], [0, 0, 0], [0, 0, 0], [0, 1, 0], [0, 1, 0]])\n",
        "    }\n",
        "\n",
        "    # Convert number to string and process each character\n",
        "    chars = list(str(input_number))\n",
        "    display_segments = []\n",
        "\n",
        "    for char in chars:\n",
        "        if char in patterns:\n",
        "            display_segments.append(patterns[char])\n",
        "            # Add small space between characters except after decimal point\n",
        "            if char != \".\":\n",
        "                display_segments.append(np.zeros((5, 1)))\n",
        "\n",
        "    # Remove last space if present\n",
        "    if display_segments and display_segments[-1].shape == (5, 1):\n",
        "        display_segments = display_segments[:-1]\n",
        "\n",
        "    # Combine all segments horizontally\n",
        "    if display_segments:\n",
        "        display = np.concatenate(display_segments, axis=1)\n",
        "    else:\n",
        "        display = np.zeros((5, 3))\n",
        "\n",
        "    # Display the result\n",
        "    plt.figure(figsize=(len(chars), 2))\n",
        "    plt.imshow(display, cmap='binary', vmin=0, vmax=1)\n",
        "    plt.axis('off')\n",
        "    plt.show()\n",
        "\n",
        "\n",
        "print(\"Displays negative float\")\n",
        "show_in_digi(-123.45)\n",
        "print(\"Displays decimal number\")\n",
        "show_in_digi(0.987)\n",
        "print(\"Displays negative decimal\")\n",
        "show_in_digi(-0.5)"
      ],
      "metadata": {
        "colab": {
          "base_uri": "https://localhost:8080/",
          "height": 450
        },
        "id": "WuCb6xUESOL5",
        "outputId": "a3ae7768-1f29-4666-c76c-d6d898ca1666"
      },
      "execution_count": 37,
      "outputs": [
        {
          "output_type": "stream",
          "name": "stdout",
          "text": [
            "Displays negative float\n"
          ]
        },
        {
          "output_type": "display_data",
          "data": {
            "text/plain": [
              "<Figure size 700x200 with 1 Axes>"
            ],
            "image/png": "[encoded data removed]"
          },
          "metadata": {}
        },
        {
          "output_type": "stream",
          "name": "stdout",
          "text": [
            "Displays decimal number\n"
          ]
        },
        {
          "output_type": "display_data",
          "data": {
            "text/plain": [
              "<Figure size 500x200 with 1 Axes>"
            ],
            "image/png": "[encoded data removed]"
          },
          "metadata": {}
        },
        {
          "output_type": "stream",
          "name": "stdout",
          "text": [
            "Displays negative decimal\n"
          ]
        },
        {
          "output_type": "display_data",
          "data": {
            "text/plain": [
              "<Figure size 400x200 with 1 Axes>"
            ],
            "image/png": "[encoded data removed]"
          },
          "metadata": {}
        }
      ]
    }
  ]
}
